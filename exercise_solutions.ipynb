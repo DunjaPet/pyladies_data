{
 "cells": [
  {
   "cell_type": "markdown",
   "metadata": {},
   "source": [
    "### Cvičení - opakování \n",
    "\n",
    "Máte k dispozici seznam dětí. Některé jsou ve skupině berušky, jiné ve skupině tygřici.\n",
    "\n",
    "Spočítejte, kolik je děti v každé skupině a vytiskněte toto číslo. Pro tento účel využijte funkci `str.format()`.\n",
    "Vytiskněte taky abecedně seřazené seznamy děti v každé skupině zvlášť."
   ]
  },
  {
   "cell_type": "code",
   "execution_count": null,
   "metadata": {
    "collapsed": true
   },
   "outputs": [],
   "source": [
    "kids = {\n",
    "    'Pavla':'berušky', 'Ondřej':'tygříci', 'Jakub':'berušky', 'Klára':'berušky', 'Magdaléna':'tygříci', \n",
    "    'Vojtěch':'berušky', 'Jan':'tygříci', 'Filip':'tygříci', 'Daniel':'tygříci', 'Michaela':'berušky', \n",
    "    'Markéta':'tygříci'\n",
    "}"
   ]
  },
  {
   "cell_type": "code",
   "execution_count": null,
   "metadata": {
    "collapsed": true
   },
   "outputs": [],
   "source": [
    "group1 = []\n",
    "group1_num = 0\n",
    "group2 = []\n",
    "group2_num = 0   "
   ]
  },
  {
   "cell_type": "code",
   "execution_count": null,
   "metadata": {
    "collapsed": true
   },
   "outputs": [],
   "source": [
    "for k, v in kids.items():\n",
    "    if v == 'berušky':\n",
    "        group1_num += 1\n",
    "        group1.append(k)\n",
    "    if v == 'tygříci':\n",
    "        group2_num += 1\n",
    "        group2.append(k)"
   ]
  },
  {
   "cell_type": "code",
   "execution_count": null,
   "metadata": {
    "collapsed": true
   },
   "outputs": [],
   "source": [
    "print('Ve skupině berušky je {0} dětí. Ve skupině tygříci je {1} dětí.'.format(group1_num, group2_num))"
   ]
  },
  {
   "cell_type": "code",
   "execution_count": null,
   "metadata": {
    "collapsed": true
   },
   "outputs": [],
   "source": [
    "group1.sort()\n",
    "group1"
   ]
  },
  {
   "cell_type": "code",
   "execution_count": null,
   "metadata": {
    "collapsed": true
   },
   "outputs": [],
   "source": [
    "group2.sort()\n",
    "group2"
   ]
  },
  {
   "cell_type": "markdown",
   "metadata": {},
   "source": [
    "### Cvičení - Series\n",
    "\n",
    "Vytvořte `Series`, kde index bude 5 dni (včetně dnešního dne) a data bude teplota.\n",
    "\n",
    "Nápověda použijte `pd.date_range` a `pd.datetime.now().date()`"
   ]
  },
  {
   "cell_type": "code",
   "execution_count": 15,
   "metadata": {},
   "outputs": [
    {
     "data": {
      "text/plain": [
       "DatetimeIndex(['2017-09-21', '2017-09-22', '2017-09-23', '2017-09-24',\n",
       "               '2017-09-25'],\n",
       "              dtype='datetime64[ns]', freq='D')"
      ]
     },
     "execution_count": 15,
     "metadata": {},
     "output_type": "execute_result"
    }
   ],
   "source": [
    "days = pd.date_range(start = pd.datetime.now().date(), periods=5, freq='D')\n",
    "days"
   ]
  },
  {
   "cell_type": "code",
   "execution_count": 17,
   "metadata": {},
   "outputs": [
    {
     "data": {
      "text/plain": [
       "2017-09-21    14\n",
       "2017-09-22    15\n",
       "2017-09-23    15\n",
       "2017-09-24    14\n",
       "2017-09-25    14\n",
       "Freq: D, dtype: int64"
      ]
     },
     "execution_count": 17,
     "metadata": {},
     "output_type": "execute_result"
    }
   ],
   "source": [
    "temp = [14,15,15,14,14]\n",
    "day_temp = pd.Series(temp, index = days)\n",
    "day_temp"
   ]
  },
  {
   "cell_type": "markdown",
   "metadata": {},
   "source": [
    "### Cvičení - DataFrame \n",
    "\n",
    "Anna a Hanka chtějí jít do Neklidu, Jana a Jitka do Sladkovského, Karel a Jirka do café V lese.\n",
    "\n",
    "Vytvořte `DataFrame` se sloupci `\"Jméno\"` a `\"Hospoda\"`."
   ]
  },
  {
   "cell_type": "code",
   "execution_count": 4,
   "metadata": {
    "collapsed": true
   },
   "outputs": [],
   "source": [
    "pubs = {\n",
    "    'Jméno' : ['Anna', 'Hanka', 'Jana', 'Jitka', 'Karel', 'Jirka'],\n",
    "    'Hospoda' : ['Neklid', 'Neklid','Sladkovský', 'Sladkovský', 'café V lese', 'café V lese']\n",
    "}"
   ]
  },
  {
   "cell_type": "code",
   "execution_count": 5,
   "metadata": {
    "collapsed": true
   },
   "outputs": [],
   "source": [
    "import pandas as pd"
   ]
  },
  {
   "cell_type": "code",
   "execution_count": 7,
   "metadata": {},
   "outputs": [
    {
     "data": {
      "text/html": [
       "<div>\n",
       "<style>\n",
       "    .dataframe thead tr:only-child th {\n",
       "        text-align: right;\n",
       "    }\n",
       "\n",
       "    .dataframe thead th {\n",
       "        text-align: left;\n",
       "    }\n",
       "\n",
       "    .dataframe tbody tr th {\n",
       "        vertical-align: top;\n",
       "    }\n",
       "</style>\n",
       "<table border=\"1\" class=\"dataframe\">\n",
       "  <thead>\n",
       "    <tr style=\"text-align: right;\">\n",
       "      <th></th>\n",
       "      <th>Hospoda</th>\n",
       "      <th>Jméno</th>\n",
       "    </tr>\n",
       "  </thead>\n",
       "  <tbody>\n",
       "    <tr>\n",
       "      <th>0</th>\n",
       "      <td>Neklid</td>\n",
       "      <td>Anna</td>\n",
       "    </tr>\n",
       "    <tr>\n",
       "      <th>1</th>\n",
       "      <td>Neklid</td>\n",
       "      <td>Hanka</td>\n",
       "    </tr>\n",
       "    <tr>\n",
       "      <th>2</th>\n",
       "      <td>Sladkovský</td>\n",
       "      <td>Jana</td>\n",
       "    </tr>\n",
       "    <tr>\n",
       "      <th>3</th>\n",
       "      <td>Sladkovský</td>\n",
       "      <td>Jitka</td>\n",
       "    </tr>\n",
       "    <tr>\n",
       "      <th>4</th>\n",
       "      <td>café V lese</td>\n",
       "      <td>Karel</td>\n",
       "    </tr>\n",
       "    <tr>\n",
       "      <th>5</th>\n",
       "      <td>café V lese</td>\n",
       "      <td>Jirka</td>\n",
       "    </tr>\n",
       "  </tbody>\n",
       "</table>\n",
       "</div>"
      ],
      "text/plain": [
       "       Hospoda  Jméno\n",
       "0       Neklid   Anna\n",
       "1       Neklid  Hanka\n",
       "2   Sladkovský   Jana\n",
       "3   Sladkovský  Jitka\n",
       "4  café V lese  Karel\n",
       "5  café V lese  Jirka"
      ]
     },
     "execution_count": 7,
     "metadata": {},
     "output_type": "execute_result"
    }
   ],
   "source": [
    "pubs_df = pd.DataFrame(pubs)\n",
    "pubs_df"
   ]
  }
 ],
 "metadata": {
  "kernelspec": {
   "display_name": "Python 3",
   "language": "python",
   "name": "python3"
  },
  "language_info": {
   "codemirror_mode": {
    "name": "ipython",
    "version": 3
   },
   "file_extension": ".py",
   "mimetype": "text/x-python",
   "name": "python",
   "nbconvert_exporter": "python",
   "pygments_lexer": "ipython3",
   "version": "3.5.2"
  }
 },
 "nbformat": 4,
 "nbformat_minor": 2
}
