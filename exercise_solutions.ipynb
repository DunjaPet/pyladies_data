{
 "cells": [
  {
   "cell_type": "markdown",
   "metadata": {},
   "source": [
    "### Cvičení - opakování \n",
    "\n",
    "Máte k dispozici seznam dětí. Některé jsou ve skupině berušky, jiné ve skupině tygřici.\n",
    "\n",
    "Spočítejte, kolik je děti v každé skupině a vytiskněte toto číslo. Pro tento účel využijte funkci `str.format()`.\n",
    "Vytiskněte taky abecedně seřazené seznamy děti v každé skupině zvlášť."
   ]
  },
  {
   "cell_type": "code",
   "execution_count": null,
   "metadata": {
    "collapsed": true
   },
   "outputs": [],
   "source": [
    "kids = {\n",
    "    'Pavla':'berušky', 'Ondřej':'tygříci', 'Jakub':'berušky', 'Klára':'berušky', 'Magdaléna':'tygříci', \n",
    "    'Vojtěch':'berušky', 'Jan':'tygříci', 'Filip':'tygříci', 'Daniel':'tygříci', 'Michaela':'berušky', \n",
    "    'Markéta':'tygříci'\n",
    "}"
   ]
  },
  {
   "cell_type": "code",
   "execution_count": null,
   "metadata": {
    "collapsed": true
   },
   "outputs": [],
   "source": [
    "group1 = []\n",
    "group1_num = 0\n",
    "group2 = []\n",
    "group2_num = 0   "
   ]
  },
  {
   "cell_type": "code",
   "execution_count": null,
   "metadata": {
    "collapsed": true
   },
   "outputs": [],
   "source": [
    "for k, v in kids.items():\n",
    "    if v == 'berušky':\n",
    "        group1_num += 1\n",
    "        group1.append(k)\n",
    "    if v == 'tygříci':\n",
    "        group2_num += 1\n",
    "        group2.append(k)"
   ]
  },
  {
   "cell_type": "code",
   "execution_count": null,
   "metadata": {
    "collapsed": true
   },
   "outputs": [],
   "source": [
    "print('Ve skupině berušky je {0} dětí. Ve skupině tygříci je {1} dětí.'.format(group1_num, group2_num))"
   ]
  },
  {
   "cell_type": "code",
   "execution_count": null,
   "metadata": {
    "collapsed": true
   },
   "outputs": [],
   "source": [
    "group1.sort()\n",
    "group1"
   ]
  },
  {
   "cell_type": "code",
   "execution_count": null,
   "metadata": {
    "collapsed": true
   },
   "outputs": [],
   "source": [
    "group2.sort()\n",
    "group2"
   ]
  },
  {
   "cell_type": "markdown",
   "metadata": {},
   "source": [
    "### Cvičení - list comprehensions\n",
    "\n",
    "Vytvořte seznam svých pěti kamarádů\n",
    "Pomocí list comprehensions vytvořte z tohoto seznamu další seznam, který ke každému jménu přidá ' je super!'\n",
    "Vytiskněte vytvořený seznam\n"
   ]
  },
  {
   "cell_type": "code",
   "execution_count": null,
   "metadata": {},
   "outputs": [],
   "source": [
    "friends = ['Pavla', 'Pavel', 'Vojta', 'Jitka', 'Veronika']\n",
    "friends_super = [friend + ' je super!' for friend in friends]\n",
    "friends_super"
   ]
  },
  {
   "cell_type": "markdown",
   "metadata": {},
   "source": [
    "### Cvičení - Series\n",
    "\n",
    "Vytvořte `Series`, kde index bude 5 dni (včetně dnešního dne) a data bude teplota.\n",
    "\n",
    "Nápověda použijte `pd.date_range` a `pd.datetime.now().date()`"
   ]
  },
  {
   "cell_type": "code",
   "execution_count": null,
   "metadata": {},
   "outputs": [],
   "source": [
    "days = pd.date_range(start = pd.datetime.now().date(), periods=5, freq='D')\n",
    "days"
   ]
  },
  {
   "cell_type": "code",
   "execution_count": null,
   "metadata": {},
   "outputs": [],
   "source": [
    "temp = [14,15,15,14,14]\n",
    "day_temp = pd.Series(temp, index = days)\n",
    "day_temp"
   ]
  },
  {
   "cell_type": "markdown",
   "metadata": {},
   "source": [
    "### Cvičení - DataFrame \n",
    "\n",
    "Anna a Hanka chtějí jít do Neklidu, Jana a Jitka do Sladkovského, Karel a Jirka do café V lese.\n",
    "\n",
    "Vytvořte `DataFrame` se sloupci `\"Jméno\"` a `\"Hospoda\"`."
   ]
  },
  {
   "cell_type": "code",
   "execution_count": null,
   "metadata": {
    "collapsed": true
   },
   "outputs": [],
   "source": [
    "pubs = {\n",
    "    'Jméno' : ['Anna', 'Hanka', 'Jana', 'Jitka', 'Karel', 'Jirka'],\n",
    "    'Hospoda' : ['Neklid', 'Neklid','Sladkovský', 'Sladkovský', 'café V lese', 'café V lese']\n",
    "}"
   ]
  },
  {
   "cell_type": "code",
   "execution_count": null,
   "metadata": {
    "collapsed": true
   },
   "outputs": [],
   "source": [
    "import pandas as pd"
   ]
  },
  {
   "cell_type": "code",
   "execution_count": null,
   "metadata": {},
   "outputs": [],
   "source": [
    "pubs_df = pd.DataFrame(pubs)\n",
    "pubs_df"
   ]
  },
  {
   "cell_type": "markdown",
   "metadata": {},
   "source": [
    "### Cvičení - Tida data\n",
    "Stáhněte data - [počty telefonů](https://raw.githubusercontent.com/vincentarelbundock/Rdatasets/master/csv/datasets/WorldPhones.csv)\n",
    "\n",
    "Přetransformujte data tak, aby měla 3 sloupce: kontinent, rok, počet telefonů"
   ]
  },
  {
   "cell_type": "code",
   "execution_count": null,
   "metadata": {},
   "outputs": [],
   "source": [
    "link = 'https://raw.githubusercontent.com/vincentarelbundock/Rdatasets/master/csv/datasets/WorldPhones.csv'\n",
    "phones = pd.read_csv(link)\n",
    "phones"
   ]
  },
  {
   "cell_type": "code",
   "execution_count": null,
   "metadata": {},
   "outputs": [],
   "source": [
    "phones.rename(columns={'Unnamed: 0':'Year'}, inplace=True)"
   ]
  },
  {
   "cell_type": "code",
   "execution_count": null,
   "metadata": {},
   "outputs": [],
   "source": [
    "phones"
   ]
  },
  {
   "cell_type": "code",
   "execution_count": null,
   "metadata": {
    "collapsed": true
   },
   "outputs": [],
   "source": [
    "phones_melted = pd.melt(phones, id_vars=['Year'], value_vars=[\"N.Amer\",\"Europe\",\"Asia\",\"S.Amer\",\"Oceania\",\"Africa\",\"Mid.Amer\"])"
   ]
  },
  {
   "cell_type": "code",
   "execution_count": null,
   "metadata": {},
   "outputs": [],
   "source": [
    "phones_melted.columns = ['Year', 'Continent', 'Telephone_number']\n",
    "phones_melted.head()"
   ]
  },
  {
   "cell_type": "markdown",
   "metadata": {
    "collapsed": true
   },
   "source": [
    "### Cvičení - výběr podmnožiny dat\n",
    "\n",
    "Z `titanic` dat:\n",
    "    \n",
    "    1. Vyberte prvních 20 řádků\n",
    "    2. Ponechte sloupci obsahující jméno, pohlaví, věk, kde nastupovali a zda přežili    \n",
    "    3. Spočítejte popisnou statistiku pro všechny sloupce"
   ]
  },
  {
   "cell_type": "code",
   "execution_count": null,
   "metadata": {},
   "outputs": [],
   "source": [
    "titanic = pd.read_excel('http://biostat.mc.vanderbilt.edu/wiki/pub/Main/DataSets/titanic3.xls')\n",
    "titanic.head()"
   ]
  },
  {
   "cell_type": "code",
   "execution_count": null,
   "metadata": {
    "collapsed": true
   },
   "outputs": [],
   "source": [
    "titanic_sub = titanic.loc[:19, ['survived', 'name', 'sex', 'age', 'embarked']]"
   ]
  },
  {
   "cell_type": "code",
   "execution_count": null,
   "metadata": {},
   "outputs": [],
   "source": [
    "titanic_sub.describe(include = 'all')"
   ]
  },
  {
   "cell_type": "code",
   "execution_count": null,
   "metadata": {
    "collapsed": true
   },
   "outputs": [],
   "source": []
  }
 ],
 "metadata": {
  "kernelspec": {
   "display_name": "Python 3",
   "language": "python",
   "name": "python3"
  },
  "language_info": {
   "codemirror_mode": {
    "name": "ipython",
    "version": 3
   },
   "file_extension": ".py",
   "mimetype": "text/x-python",
   "name": "python",
   "nbconvert_exporter": "python",
   "pygments_lexer": "ipython3",
   "version": "3.5.2"
  }
 },
 "nbformat": 4,
 "nbformat_minor": 2
}
