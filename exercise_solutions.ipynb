{
 "cells": [
  {
   "cell_type": "markdown",
   "metadata": {},
   "source": [
    "### Cvičení - opakování \n",
    "\n",
    "Máte k dispozici seznam dětí. Některé jsou ve skupině berušky, jiné ve skupině tygřici.\n",
    "\n",
    "Spočítejte, kolik je děti v každé skupině a vytiskněte toto číslo. Pro tento účel využijte funkci `str.format()`.\n",
    "Vytiskněte taky abecedně seřazené seznamy děti v každé skupině zvlášť."
   ]
  },
  {
   "cell_type": "code",
   "execution_count": null,
   "metadata": {
    "collapsed": true
   },
   "outputs": [],
   "source": [
    "kids = {\n",
    "    'Pavla':'berušky', 'Ondřej':'tygříci', 'Jakub':'berušky', 'Klára':'berušky', 'Magdaléna':'tygříci', \n",
    "    'Vojtěch':'berušky', 'Jan':'tygříci', 'Filip':'tygříci', 'Daniel':'tygříci', 'Michaela':'berušky', \n",
    "    'Markéta':'tygříci'\n",
    "}"
   ]
  },
  {
   "cell_type": "code",
   "execution_count": null,
   "metadata": {
    "collapsed": true
   },
   "outputs": [],
   "source": [
    "group1 = []\n",
    "group1_num = 0\n",
    "group2 = []\n",
    "group2_num = 0   "
   ]
  },
  {
   "cell_type": "code",
   "execution_count": null,
   "metadata": {},
   "outputs": [],
   "source": [
    "for k, v in kids.items():\n",
    "    if v == 'berušky':\n",
    "        group1_num += 1\n",
    "        group1.append(k)\n",
    "    if v == 'tygříci':\n",
    "        group2_num += 1\n",
    "        group2.append(k)"
   ]
  },
  {
   "cell_type": "code",
   "execution_count": null,
   "metadata": {},
   "outputs": [],
   "source": [
    "print('Ve skupině berušky je {0} dětí. Ve skupině tygříci je {1} dětí.'.format(group1_num, group2_num))"
   ]
  },
  {
   "cell_type": "code",
   "execution_count": null,
   "metadata": {},
   "outputs": [],
   "source": [
    "group1.sort()\n",
    "group1"
   ]
  },
  {
   "cell_type": "code",
   "execution_count": null,
   "metadata": {},
   "outputs": [],
   "source": [
    "group2.sort()\n",
    "group2"
   ]
  }
 ],
 "metadata": {
  "kernelspec": {
   "display_name": "Python 3",
   "language": "python",
   "name": "python3"
  },
  "language_info": {
   "codemirror_mode": {
    "name": "ipython",
    "version": 3
   },
   "file_extension": ".py",
   "mimetype": "text/x-python",
   "name": "python",
   "nbconvert_exporter": "python",
   "pygments_lexer": "ipython3",
   "version": "3.5.2"
  }
 },
 "nbformat": 4,
 "nbformat_minor": 2
}
