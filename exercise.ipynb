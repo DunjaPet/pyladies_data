{
 "cells": [
  {
   "cell_type": "markdown",
   "metadata": {},
   "source": [
    "### Cvičení - opakování \n",
    "\n",
    "Máte k dispozici seznam dětí. Některé jsou ve skupině berušky, jiné ve skupině tygřici.\n",
    "\n",
    "Spočítejte, kolik je děti v každé skupině a vytiskněte toto číslo. Pro tento účel využijte funkci `str.format()`.\n",
    "Vytiskněte taky abecedně seřazené seznamy děti v každé skupině zvlášť."
   ]
  },
  {
   "cell_type": "code",
   "execution_count": 1,
   "metadata": {
    "collapsed": true
   },
   "outputs": [],
   "source": [
    "kids = {\n",
    "    'Pavla':'berušky', 'Ondřej':'tygříci', 'Jakub':'berušky', 'Klára':'berušky', 'Magdaléna':'tygříci', \n",
    "    'Vojtěch':'berušky', 'Jan':'tygříci', 'Filip':'tygříci', 'Daniel':'tygříci', 'Michaela':'berušky', \n",
    "    'Markéta':'tygříci'\n",
    "}"
   ]
  },
  {
   "cell_type": "markdown",
   "metadata": {
    "collapsed": true
   },
   "source": [
    "### Cvičení - DataFrame \n",
    "\n",
    "Anna a Hanka chtějí jít do Neklidu, Jana a Jitka do Sladkovského, Karel a Jirka do café V lese.\n",
    "\n",
    "Vytvořte `DataFrame` se sloupci `\"Jméno\"` a `\"Hospoda\"`.\n"
   ]
  },
  {
   "cell_type": "markdown",
   "metadata": {},
   "source": [
    "### Cvičení - Series\n",
    "\n",
    "Vytvořte `Series`, kde index bude 5 dni (včetně dnešního dne) a data bude teplota.\n",
    "\n",
    "Nápověda použijte `pd.date_range` a `pd.datetime.now().date()`\n"
   ]
  }
 ],
 "metadata": {
  "kernelspec": {
   "display_name": "Python 3",
   "language": "python",
   "name": "python3"
  },
  "language_info": {
   "codemirror_mode": {
    "name": "ipython",
    "version": 3
   },
   "file_extension": ".py",
   "mimetype": "text/x-python",
   "name": "python",
   "nbconvert_exporter": "python",
   "pygments_lexer": "ipython3",
   "version": "3.5.2"
  }
 },
 "nbformat": 4,
 "nbformat_minor": 2
}
